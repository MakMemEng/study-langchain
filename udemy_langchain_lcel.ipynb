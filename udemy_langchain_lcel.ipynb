{
  "nbformat": 4,
  "nbformat_minor": 0,
  "metadata": {
    "colab": {
      "provenance": [],
      "toc_visible": true
    },
    "kernelspec": {
      "name": "python3",
      "display_name": "Python 3"
    },
    "language_info": {
      "name": "python"
    }
  },
  "cells": [
    {
      "cell_type": "markdown",
      "source": [
        "# Udemy講座「LangChainによる大規模言語モデル（LLM）アプリケーション開発入門」セクション「（アップデート）LangChain Expression Language （LCEL）」のソースコード"
      ],
      "metadata": {
        "id": "T9zLNoFZNM9E"
      }
    },
    {
      "cell_type": "markdown",
      "source": [
        "## LangChain Expression Language （LCEL）の概要と実装例"
      ],
      "metadata": {
        "id": "9Qp9b7liNVfA"
      }
    },
    {
      "cell_type": "code",
      "source": [
        "import os\n",
        "from google.colab import userdata\n",
        "\n",
        "os.environ[\"OPENAI_API_KEY\"] = userdata.get('OPENAI_API_KEY')"
      ],
      "metadata": {
        "id": "Ro-6OVC6NKqd"
      },
      "execution_count": null,
      "outputs": []
    },
    {
      "cell_type": "code",
      "source": [
        "!pip install --quiet langchain==0.0.329 openai==0.28.1"
      ],
      "metadata": {
        "id": "qLw6AV0tO6cQ"
      },
      "execution_count": null,
      "outputs": []
    },
    {
      "cell_type": "code",
      "source": [
        "from langchain.chat_models import ChatOpenAI\n",
        "from langchain.prompts import PromptTemplate\n",
        "\n",
        "# PromptTemplateを準備\n",
        "prompt = PromptTemplate.from_template(\"\"\"料理のレシピを考えてください。\n",
        "\n",
        "料理名: {dish}\"\"\")\n",
        "\n",
        "# LLMを準備\n",
        "llm = ChatOpenAI(model_name=\"gpt-3.5-turbo\", temperature=0)\n",
        "\n",
        "# Chainを作成\n",
        "chain = prompt | llm\n",
        "\n",
        "# Chainを作成する処理は、LCEL以前は以下のように書いていました。\n",
        "# chain = LLMChain(llm=chat, prompt=prompt)\n",
        "\n",
        "result = chain.invoke({\"dish\": \"カレー\"})\n",
        "print(result.content)"
      ],
      "metadata": {
        "id": "_BNi9JXkNY0H"
      },
      "execution_count": null,
      "outputs": []
    },
    {
      "cell_type": "code",
      "source": [
        "from langchain.chat_models import ChatOpenAI\n",
        "from langchain.output_parsers import PydanticOutputParser\n",
        "from langchain.prompts import PromptTemplate\n",
        "from pydantic import BaseModel, Field\n",
        "\n",
        "# OutputParserを準備\n",
        "class Recipe(BaseModel):\n",
        "    ingredients: list[str] = Field(description=\"ingredients of the dish\")\n",
        "    steps: list[str] = Field(description=\"steps to make the dish\")\n",
        "\n",
        "output_parser = PydanticOutputParser(pydantic_object=Recipe)\n",
        "\n",
        "# PromptTemplateを準備\n",
        "prompt = PromptTemplate.from_template(\"\"\"料理のレシピを考えてください。\n",
        "\n",
        "{format_instructions}\n",
        "\n",
        "料理名: {dish}\"\"\", partial_variables = {\"format_instructions\": output_parser.get_format_instructions()})\n",
        "\n",
        "# LLMを準備\n",
        "llm = ChatOpenAI(model_name=\"gpt-3.5-turbo\", temperature=0)\n",
        "\n",
        "# Chainを作成\n",
        "chain = prompt | llm | output_parser\n",
        "\n",
        "# Chainを実行\n",
        "result = chain.invoke({\"dish\": \"カレー\"})\n",
        "print(type(result))\n",
        "print(result)"
      ],
      "metadata": {
        "id": "EZc8TPycQjrb"
      },
      "execution_count": null,
      "outputs": []
    },
    {
      "cell_type": "code",
      "source": [],
      "metadata": {
        "id": "rorm7J63RWR9"
      },
      "execution_count": null,
      "outputs": []
    }
  ]
}